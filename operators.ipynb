{
  "nbformat": 4,
  "nbformat_minor": 0,
  "metadata": {
    "colab": {
      "provenance": []
    },
    "kernelspec": {
      "name": "python3",
      "display_name": "Python 3"
    },
    "language_info": {
      "name": "python"
    }
  },
  "cells": [
    {
      "cell_type": "code",
      "source": [
        "# Arithmetic Operations in Python\n",
        "print('Addition: ', 1 + 2)\n",
        "print('Subtraction: ', 2 - 1)\n",
        "print('Multiplication: ', 2 * 3)\n",
        "print ('Division: ', 4 / 2)\n",
        "print('Division: ', 6 / 2)\n",
        "print('Division: ', 7 / 2)\n",
        "print('Division without the remainder: ', 7 // 2)   # gives without the floating number or without the remaining\n",
        "print('Modulus: ', 3 % 2)                           # Gives the remainder\n",
        "print ('Division without the remainder: ', 7 // 3)\n",
        "print('Exponential: ', 3 ** 2)                     # it means 3 * 3\n"
      ],
      "metadata": {
        "colab": {
          "base_uri": "https://localhost:8080/"
        },
        "id": "I2SRkWUDTtYQ",
        "outputId": "c4435e55-e3fc-49af-8f0c-6ea8fe84d9c4"
      },
      "execution_count": null,
      "outputs": [
        {
          "output_type": "stream",
          "name": "stdout",
          "text": [
            "Addition:  3\n",
            "Subtraction:  1\n",
            "Multiplication:  6\n",
            "Division:  2.0\n",
            "Division:  3.0\n",
            "Division:  3.5\n",
            "Division without the remainder:  3\n",
            "Modulus:  1\n",
            "Division without the remainder:  2\n",
            "Exponential:  9\n"
          ]
        }
      ]
    },
    {
      "cell_type": "code",
      "source": [
        "# Floating numbers\n",
        "print('Floating Number,PI', 3.14)\n",
        "print('Floating Number, gravity', 9.81)"
      ],
      "metadata": {
        "colab": {
          "base_uri": "https://localhost:8080/"
        },
        "id": "WGhU-tk7Ttaq",
        "outputId": "f90c1e14-6e86-4551-80b6-8d959908dafb"
      },
      "execution_count": null,
      "outputs": [
        {
          "output_type": "stream",
          "name": "stdout",
          "text": [
            "Floating Number,PI 3.14\n",
            "Floating Number, gravity 9.81\n"
          ]
        }
      ]
    },
    {
      "cell_type": "code",
      "source": [
        "# Complex numbers\n",
        "print('Complex number: ', 1 + 1j)\n",
        "print('Multiplying complex number: ',(1 + 1j) * (1-1j))"
      ],
      "metadata": {
        "colab": {
          "base_uri": "https://localhost:8080/"
        },
        "id": "8pgtuBT_TtdT",
        "outputId": "844d5d48-f5fc-4a6f-8982-b6e920fac0b9"
      },
      "execution_count": null,
      "outputs": [
        {
          "output_type": "stream",
          "name": "stdout",
          "text": [
            "Complex number:  (1+1j)\n",
            "Multiplying complex number:  (2+0j)\n"
          ]
        }
      ]
    },
    {
      "cell_type": "code",
      "source": [
        "a = 3\n",
        "b = 2\n",
        "\n",
        "# Arithmetic operations and assigning the result to a variable\n",
        "total = a + b\n",
        "diff = a - b\n",
        "product = a * b\n",
        "division = a / b\n",
        "remainder = a % b\n",
        "floor_division = a // b\n",
        "exponential = a ** b\n",
        "\n",
        "print(total)\n",
        "print('a + b = ', total)\n",
        "print('a - b = ', diff)\n",
        "print('a * b = ', product)\n",
        "print('a / b = ', division)\n",
        "print('a % b = ', remainder)\n",
        "print('a // b = ', floor_division)\n",
        "print('a ** b = ', exponential)\n"
      ],
      "metadata": {
        "colab": {
          "base_uri": "https://localhost:8080/"
        },
        "id": "It5i89eyTtg0",
        "outputId": "51cdf310-9243-46e8-8f1c-194f3eb99b9a"
      },
      "execution_count": null,
      "outputs": [
        {
          "output_type": "stream",
          "name": "stdout",
          "text": [
            "5\n",
            "a + b =  5\n",
            "a - b =  1\n",
            "a * b =  6\n",
            "a / b =  1.5\n",
            "a % b =  1\n",
            "a // b =  1\n",
            "a ** b =  9\n"
          ]
        }
      ]
    },
    {
      "cell_type": "code",
      "source": [
        "num_one = 3\n",
        "num_two = 4\n",
        "\n",
        "# Arithmetic operations\n",
        "total = num_one + num_two\n",
        "diff = num_two - num_one\n",
        "product = num_one * num_two\n",
        "div = num_two / num_two\n",
        "remainder = num_two % num_one\n",
        "\n",
        "print('total: ', total)\n",
        "print('difference: ', diff)\n",
        "print('product: ', product)\n",
        "print('division: ', div)\n",
        "print('remainder: ', remainder)"
      ],
      "metadata": {
        "id": "3yfdUrfYVcBB",
        "colab": {
          "base_uri": "https://localhost:8080/"
        },
        "outputId": "1dd822d4-604a-4e77-d5f3-cba6edf49a9a"
      },
      "execution_count": 8,
      "outputs": [
        {
          "output_type": "stream",
          "name": "stdout",
          "text": [
            "total:  7\n",
            "difference:  1\n",
            "product:  12\n",
            "division:  1.0\n",
            "remainder:  1\n"
          ]
        }
      ]
    },
    {
      "cell_type": "code",
      "source": [
        "# Calculating area of a circle\n",
        "radius = 10\n",
        "area_of_circle = 3.14 * radius ** 2\n",
        "print('Area of a circle:', area_of_circle)"
      ],
      "metadata": {
        "colab": {
          "base_uri": "https://localhost:8080/"
        },
        "id": "2abACA56V61o",
        "outputId": "dfe1db47-a8a9-4251-ca36-0eadbd80de4f"
      },
      "execution_count": 9,
      "outputs": [
        {
          "output_type": "stream",
          "name": "stdout",
          "text": [
            "Area of a circle: 314.0\n"
          ]
        }
      ]
    },
    {
      "cell_type": "code",
      "source": [
        "# Calculating area of a rectangle\n",
        "length = 10\n",
        "width = 20\n",
        "area_of_rectangle = length * width\n",
        "print('Area of rectangle:', area_of_rectangle)"
      ],
      "metadata": {
        "colab": {
          "base_uri": "https://localhost:8080/"
        },
        "id": "eI14AWcqV68j",
        "outputId": "4984795a-9394-402f-a7a2-cafab8478a00"
      },
      "execution_count": 10,
      "outputs": [
        {
          "output_type": "stream",
          "name": "stdout",
          "text": [
            "Area of rectangle: 200\n"
          ]
        }
      ]
    },
    {
      "cell_type": "code",
      "source": [
        "# Calculating a weight of an object\n",
        "mass = 75\n",
        "gravity = 9.81\n",
        "weight = mass * gravity\n",
        "print(weight, 'N')"
      ],
      "metadata": {
        "colab": {
          "base_uri": "https://localhost:8080/"
        },
        "id": "LzFFDGOkWjMB",
        "outputId": "7893737a-6555-46bb-9ce4-8d0ce231da1e"
      },
      "execution_count": 11,
      "outputs": [
        {
          "output_type": "stream",
          "name": "stdout",
          "text": [
            "735.75 N\n"
          ]
        }
      ]
    },
    {
      "cell_type": "code",
      "source": [
        "print(3 > 2)     # True, because 3 is greater than 2\n",
        "print(3 >= 2)    # True, because 3 is greater than 2\n",
        "print(3 < 2)     # False,  because 3 is greater than 2\n",
        "print(2 < 3)     # True, because 2 is less than 3\n",
        "print(2 <= 3)    # True, because 2 is less than 3\n",
        "print(3 == 2)    # False, because 3 is not equal to 2\n",
        "print(3 != 2)    # True, because 3 is not equal to 2\n",
        "print(len('mango') == len('avocado'))  # False\n",
        "print(len('mango') != len('avocado'))  # True\n",
        "print(len('mango') < len('avocado'))   # True\n",
        "print(len('milk') != len('meat'))      # False\n",
        "print(len('milk') == len('meat'))      # True\n",
        "print(len('tomato') == len('potato'))  # True\n",
        "print(len('python') >= len('dragon'))   # True\n"
      ],
      "metadata": {
        "colab": {
          "base_uri": "https://localhost:8080/"
        },
        "id": "kEJ19btcWjax",
        "outputId": "f7b619da-3765-4fb2-e060-e36b66e044da"
      },
      "execution_count": 13,
      "outputs": [
        {
          "output_type": "stream",
          "name": "stdout",
          "text": [
            "True\n",
            "True\n",
            "False\n",
            "True\n",
            "True\n",
            "False\n",
            "True\n",
            "False\n",
            "True\n",
            "True\n",
            "False\n",
            "True\n",
            "True\n",
            "True\n"
          ]
        }
      ]
    },
    {
      "cell_type": "code",
      "source": [
        "# Boolean comparison\n",
        "print('True == True: ', True == True)\n",
        "print('True == False: ', True == False)\n",
        "print('False == False:', False == False)\n",
        "print('True and True: ', True and True)\n",
        "print('True or False:', True or False)"
      ],
      "metadata": {
        "colab": {
          "base_uri": "https://localhost:8080/"
        },
        "id": "I-1smFyVXWiJ",
        "outputId": "12ac80fb-e98b-4775-a33d-6d5ace31267f"
      },
      "execution_count": 14,
      "outputs": [
        {
          "output_type": "stream",
          "name": "stdout",
          "text": [
            "True == True:  True\n",
            "True == False:  False\n",
            "False == False: True\n",
            "True and True:  True\n",
            "True or False: True\n"
          ]
        }
      ]
    },
    {
      "cell_type": "code",
      "source": [
        "print('1 is 1', 1 is 1)                   # True - because the data values are the same\n",
        "print('1 is not 2', 1 is not 2)           # True - because 1 is not 2\n",
        "print('A in Asabeneh', 'A' in 'Asabeneh') # True - A found in the string\n",
        "print('B in Asabeneh', 'B' in 'Asabeneh') # False -there is no uppercase B\n",
        "print('coding' in 'coding for all') # True - because coding for all has the word coding\n",
        "print('a in an:', 'a' in 'an')      # True\n",
        "print('4 is 2 ** 2:', 4 is 2 ** 2)   # True\n",
        "\n",
        "print(3 > 2 and 4 > 3) # True - True and True\n",
        "print(3 > 2 and 4 < 3) # False - True and False\n",
        "print(3 < 2 and 4 < 3) # False - False and False\n",
        "print(3 > 2 or 4 > 3)  # True - True or True\n",
        "print(3 > 2 or 4 < 3)  # True - True or False\n",
        "print(3 < 2 or 4 < 3)  # False - False or False\n",
        "print(not 3 > 2)     # False - not True\n",
        "print(not True)      # False - Negation, the not operator turns true to false\n",
        "print(not False)     # True\n",
        "print(not not True)  # True\n",
        "print(not not False) # False"
      ],
      "metadata": {
        "colab": {
          "base_uri": "https://localhost:8080/"
        },
        "id": "u_UCf8Y0YCKu",
        "outputId": "0c550a18-b844-488f-d347-0f0212155e2f"
      },
      "execution_count": 16,
      "outputs": [
        {
          "output_type": "stream",
          "name": "stdout",
          "text": [
            "1 is 1 True\n",
            "1 is not 2 True\n",
            "A in Asabeneh True\n",
            "B in Asabeneh False\n",
            "True\n",
            "a in an: True\n",
            "4 is 2 ** 2: True\n",
            "True\n",
            "False\n",
            "False\n",
            "True\n",
            "True\n",
            "False\n",
            "False\n",
            "False\n",
            "True\n",
            "True\n",
            "False\n"
          ]
        },
        {
          "output_type": "stream",
          "name": "stderr",
          "text": [
            "<>:1: SyntaxWarning: \"is\" with a literal. Did you mean \"==\"?\n",
            "<>:2: SyntaxWarning: \"is not\" with a literal. Did you mean \"!=\"?\n",
            "<>:7: SyntaxWarning: \"is\" with a literal. Did you mean \"==\"?\n",
            "<>:1: SyntaxWarning: \"is\" with a literal. Did you mean \"==\"?\n",
            "<>:2: SyntaxWarning: \"is not\" with a literal. Did you mean \"!=\"?\n",
            "<>:7: SyntaxWarning: \"is\" with a literal. Did you mean \"==\"?\n",
            "<ipython-input-16-24fc6ec7eed0>:1: SyntaxWarning: \"is\" with a literal. Did you mean \"==\"?\n",
            "  print('1 is 1', 1 is 1)                   # True - because the data values are the same\n",
            "<ipython-input-16-24fc6ec7eed0>:2: SyntaxWarning: \"is not\" with a literal. Did you mean \"!=\"?\n",
            "  print('1 is not 2', 1 is not 2)           # True - because 1 is not 2\n",
            "<ipython-input-16-24fc6ec7eed0>:7: SyntaxWarning: \"is\" with a literal. Did you mean \"==\"?\n",
            "  print('4 is 2 ** 2:', 4 is 2 ** 2)   # True\n"
          ]
        }
      ]
    }
  ]
}